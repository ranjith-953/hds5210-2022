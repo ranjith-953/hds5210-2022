{
 "cells": [
  {
   "cell_type": "markdown",
   "metadata": {},
   "source": [
    "# Week 11 - Earn-Back Points Assignment #1\n",
    "\n",
    "These exercises are entirely optional, but they provide good practice. And you can use them to earn extra points toward your semester grade.  Each problem in this notebook can you earn you back up to 2 points.  There are key requirements, though. If your code does not following these rules, you will earn no points for your work.\n",
    "* You MUST include docstrings that explain the purpose of your code.\n",
    "* You MUST include at least 2 example tests in your docstrings for each function you write.\n",
    "* You MUST run your docstrings within the notebook to show me your code and docstrings work correctly.\n",
    "* You MUST submit your own individual work.  You may not collaborate with other students on these assignments.\n",
    "\n",
    "There will be 4 assignments like this between now and the end of the semester, each with 4 problems, each worth 2 points, for a total of 32 points.\n",
    "\n",
    "**If anything about the above rules is unclear, please message me on Canvas or via email**"
   ]
  },
  {
   "cell_type": "markdown",
   "metadata": {},
   "source": [
    "---"
   ]
  },
  {
   "cell_type": "markdown",
   "metadata": {},
   "source": [
    "## Earn-Back 1: Sunflower Health Plan Files\n",
    "\n",
    "Sunflower Health Plan is one of Centene's state-specific health plans. If you aren't familiar with Centene, they are one of the largest healthcare maangement organizations the country and are headquartered here in St. Louis. Many of your colleagues from previous graduating classes now work at Centene. \n",
    "\n",
    "Sunflower Health Plan has posted links to two files on this page: https://www.sunflowerhealthplan.com/json.html\n",
    "\n",
    "* https://www.sunflowerhealthplan.com/content/dam/centene/sunflower/json/KAPrintProviderDir_Prac.json\n",
    "* https://www.sunflowerhealthplan.com/content/dam/centene/sunflower/json/KAPrintProviderDir_Prov.json\n",
    "\n",
    "This entire problemset asks you to work with these files.\n",
    "\n",
    "Your first step is to write a python function called **get_files(type)** where **type** is a string that contains one of two values: *practitioner* or *provider*.  Your function should download the correct file from the webpage above based on the string value passed to the function. The function should return the objects created by loading that JSON data.\n",
    "\n",
    "**INPUT:** `'practitioneer'` or `'provider'`\n",
    "\n",
    "**OUTPUT:** Python object based on the data from the appropriate file.\n",
    "\n",
    "\n",
    "*Note that these files may take a minute for Python to download. They're big.*"
   ]
  },
  {
   "cell_type": "code",
   "execution_count": 43,
   "metadata": {},
   "outputs": [],
   "source": [
    "import requests\n",
    "def get_files(type):\n",
    "    '''\n",
    "    >>> len(get_files('provider'))\n",
    "    23127\n",
    "    '''\n",
    "    response = requests.get('https://www.sunflowerhealthplan.com/content/dam/centene/sunflower/json/KAPrintProviderDir_Prov.json')\n",
    "    repos = response.json()\n",
    "    return repos"
   ]
  },
  {
   "cell_type": "code",
   "execution_count": 44,
   "metadata": {},
   "outputs": [
    {
     "name": "stdout",
     "output_type": "stream",
     "text": [
      "Finding tests in NoName\n",
      "Trying:\n",
      "    len(get_files('provider'))\n",
      "Expecting:\n",
      "    23127\n",
      "ok\n"
     ]
    }
   ],
   "source": [
    "import doctest\n",
    "doctest.run_docstring_examples(get_files, globals(), verbose=True)"
   ]
  },
  {
   "cell_type": "markdown",
   "metadata": {},
   "source": [
    "## Earn-Back 2: What is this Data?\n",
    "\n",
    "No coding for this part, so no docstrings or tests are required.\n",
    "\n",
    "Explain to in 2-3 sentences, what do you see in these files? If you can't make sense of it from a healthcare business perspective, just tell me what you see in techincal terms."
   ]
  },
  {
   "cell_type": "markdown",
   "metadata": {},
   "source": [
    "#####\n",
    "This json file contains data regarding 2 groups one is about providers and practioneers of different health group details and what approvals they have and its also included \n",
    "geographical location of that particular healthgroup and their working hours, speciality care etc.\n",
    "#####"
   ]
  },
  {
   "cell_type": "markdown",
   "metadata": {},
   "source": [
    "## Earn-Back 3: How many are closed on each Day of the Week\n",
    "\n",
    "You'll see in the files a piece of information that tellsu us what the schedule is on every day of the week:\n",
    "\n",
    "```json\n",
    "'PROVIDER_ID': '387724',\n",
    " 'LOCATION_ID': '626140',\n",
    " 'NAME': 'Mercy Clinic Cardiology',\n",
    " 'PROVIDER TYPE': 'GROUP PRACTICE',\n",
    " 'NPI': '1215264817',\n",
    " 'SPECIALTY': 'Multi-Specialty',\n",
    " 'ADDRESS1': '3020 Saint Johns Boulevard',\n",
    " 'ADDRESS2': 'Suite A1',\n",
    " 'ADDRESS3': '',\n",
    " 'CITY': 'Joplin',\n",
    " 'STATE': 'MO',\n",
    " 'ZIP': '64804',\n",
    " 'COUNTY': 'Newton',\n",
    " 'LATITUDE': '37.061',\n",
    " 'LONGITUDE': '-94.536',\n",
    " 'PHONE': '(417) 627-8566-(855) 420-7900',\n",
    " 'AFTER HOUR PHONE': '',\n",
    " 'FAX': '',\n",
    " 'OFFICEHOURS_SU': 'Closed',\n",
    " 'OFFICEHOURS_MO': '8:00 AM - 5:00 PM',\n",
    " 'OFFICEHOURS_TU': '8:00 AM - 5:00 PM',\n",
    " 'OFFICEHOURS_WE': '8:00 AM - 5:00 PM',\n",
    " 'OFFICEHOURS_TH': '8:00 AM - 5:00 PM',\n",
    " 'OFFICEHOURS_FR': '8:00 AM - 5:00 PM',\n",
    " 'OFFICEHOURS_SA': 'Closed',\n",
    " 'HANDICAP ACCESS': 'N',\n",
    " 'WEBSITE': 'www.mercy.net',\n",
    " 'PRODUCT 1': 'GP',\n",
    "\n",
    "```\n",
    "\n",
    "Write a function called **closed_by_day(data)** that takes one parameter (the data that came out of the Provider or Practitioner download) and outputs a dictionary of how many practitioneres / providers are closed on each day:\n",
    "```json\n",
    "{\n",
    "    \"Sunday\": 1401,\n",
    "    \"Monday\": 2,\n",
    "    ...etc...\n",
    "```"
   ]
  },
  {
   "cell_type": "code",
   "execution_count": 84,
   "metadata": {},
   "outputs": [],
   "source": [
    "import pandas as pd\n",
    "import json\n",
    "# This is just to show you the name to use for the variable you need to create for this step to pass.\n",
    "def closed_by_day(data):\n",
    "    data = pd.read_json('https://www.sunflowerhealthplan.com/content/dam/centene/sunflower/json/KAPrintProviderDir_Prov.json')\n",
    "    "
   ]
  },
  {
   "cell_type": "code",
   "execution_count": 62,
   "metadata": {},
   "outputs": [
    {
     "data": {
      "text/plain": [
       "Closed                                       19380\n",
       "Open 24 Hours                                 1740\n",
       "Please contact Provider for Office Hours.     1067\n",
       "8:00 AM - 5:00 PM                              201\n",
       "10:00 AM - 6:00 PM                             189\n",
       "                                             ...  \n",
       "6:00 AM - 9:00 PM                                1\n",
       "12:00 AM - 1:00 AM, 6:00 AM - 5:00 PM            1\n",
       "2:00 PM - 5:00 PM                                1\n",
       "8:30 AM - 5:30 PM                                1\n",
       "9:30 AM - 2:30 PM                                1\n",
       "Name: OFFICEHOURS_SU, Length: 118, dtype: int64"
      ]
     },
     "execution_count": 62,
     "metadata": {},
     "output_type": "execute_result"
    }
   ],
   "source": [
    "data['OFFICEHOURS_SU'].value_counts()"
   ]
  },
  {
   "cell_type": "code",
   "execution_count": 90,
   "metadata": {},
   "outputs": [
    {
     "data": {
      "text/plain": [
       "8:00 AM - 5:00 PM                            16791\n",
       "Open 24 Hours                                 1605\n",
       "Please contact Provider for Office Hours.     1067\n",
       "9:00 AM - 5:00 PM                              366\n",
       "8:00 AM - 4:30 PM                              262\n",
       "                                             ...  \n",
       "4:30 AM - 4:00 PM                                1\n",
       "7:00 AM - 2:30 PM                                1\n",
       "6:00 AM - 7:00 PM                                1\n",
       "8:00 AM - 12:30 PM                               1\n",
       "2:30 PM - 6:00 PM                                1\n",
       "Name: OFFICEHOURS_MO, Length: 209, dtype: int64"
      ]
     },
     "execution_count": 90,
     "metadata": {},
     "output_type": "execute_result"
    }
   ],
   "source": [
    "data['OFFICEHOURS_MO'].value_counts()"
   ]
  },
  {
   "cell_type": "code",
   "execution_count": 91,
   "metadata": {},
   "outputs": [
    {
     "data": {
      "text/plain": [
       "8:00 AM - 5:00 PM                            16805\n",
       "Open 24 Hours                                 1605\n",
       "Please contact Provider for Office Hours.     1067\n",
       "9:00 AM - 5:00 PM                              341\n",
       "8:00 AM - 4:30 PM                              270\n",
       "                                             ...  \n",
       "6:00 AM - 5:30 PM                                1\n",
       "6:30 AM - 3:00 PM                                1\n",
       "5:45 AM - 8:15 PM                                1\n",
       "8:15 AM - 4:45 PM                                1\n",
       "7:00 AM - 2:30 PM                                1\n",
       "Name: OFFICEHOURS_TU, Length: 220, dtype: int64"
      ]
     },
     "execution_count": 91,
     "metadata": {},
     "output_type": "execute_result"
    }
   ],
   "source": [
    "data['OFFICEHOURS_TU'].value_counts()"
   ]
  },
  {
   "cell_type": "code",
   "execution_count": 92,
   "metadata": {},
   "outputs": [
    {
     "data": {
      "text/plain": [
       "8:00 AM - 5:00 PM                            16781\n",
       "Open 24 Hours                                 1606\n",
       "Please contact Provider for Office Hours.     1067\n",
       "9:00 AM - 5:00 PM                              370\n",
       "8:00 AM - 4:30 PM                              269\n",
       "                                             ...  \n",
       "2:00 PM - 6:00 PM                                1\n",
       "4:30 PM - 7:00 PM                                1\n",
       "2:00 PM - 7:00 PM                                1\n",
       "4:30 AM - 6:45 PM                                1\n",
       "3:00 PM - 6:00 PM                                1\n",
       "Name: OFFICEHOURS_WE, Length: 214, dtype: int64"
      ]
     },
     "execution_count": 92,
     "metadata": {},
     "output_type": "execute_result"
    }
   ],
   "source": [
    "data['OFFICEHOURS_WE'].value_counts()"
   ]
  },
  {
   "cell_type": "code",
   "execution_count": 93,
   "metadata": {},
   "outputs": [
    {
     "data": {
      "text/plain": [
       "8:00 AM - 5:00 PM                            16827\n",
       "Open 24 Hours                                 1605\n",
       "Please contact Provider for Office Hours.     1067\n",
       "9:00 AM - 5:00 PM                              349\n",
       "8:00 AM - 4:30 PM                              266\n",
       "                                             ...  \n",
       "8:45 AM - 5:00 PM                                1\n",
       "5:00 AM - 3:15 PM                                1\n",
       "8:00 AM - 5:15 PM                                1\n",
       "6:00 AM - 11:59 PM                               1\n",
       "5:30 PM - 8:30 PM                                1\n",
       "Name: OFFICEHOURS_TH, Length: 230, dtype: int64"
      ]
     },
     "execution_count": 93,
     "metadata": {},
     "output_type": "execute_result"
    }
   ],
   "source": [
    "data['OFFICEHOURS_TH'].value_counts()"
   ]
  },
  {
   "cell_type": "code",
   "execution_count": 94,
   "metadata": {},
   "outputs": [
    {
     "data": {
      "text/plain": [
       "8:00 AM - 5:00 PM                            16716\n",
       "Open 24 Hours                                 1605\n",
       "Please contact Provider for Office Hours.     1067\n",
       "9:00 AM - 5:00 PM                              317\n",
       "8:00 AM - 4:30 PM                              258\n",
       "                                             ...  \n",
       "5:45 AM - 5:00 PM                                1\n",
       "3:00 PM - 6:00 PM                                1\n",
       "12:30 PM - 6:00 PM                               1\n",
       "11:00 AM - 6:00 PM                               1\n",
       "8:30 AM - 1:30 PM                                1\n",
       "Name: OFFICEHOURS_FR, Length: 215, dtype: int64"
      ]
     },
     "execution_count": 94,
     "metadata": {},
     "output_type": "execute_result"
    }
   ],
   "source": [
    "data['OFFICEHOURS_FR'].value_counts()"
   ]
  },
  {
   "cell_type": "code",
   "execution_count": 95,
   "metadata": {},
   "outputs": [
    {
     "data": {
      "text/plain": [
       "Closed                                       18718\n",
       "Open 24 Hours                                 1743\n",
       "Please contact Provider for Office Hours.     1067\n",
       "9:00 AM - 6:00 PM                              171\n",
       "8:00 AM - 5:00 PM                              148\n",
       "                                             ...  \n",
       "8:30 AM - 6:00 PM                                1\n",
       "11:00 AM - 6:00 PM                               1\n",
       "5:00 AM - 7:00 PM                                1\n",
       "9:30 AM - 1:30 PM                                1\n",
       "1:00 PM - 3:00 PM                                1\n",
       "Name: OFFICEHOURS_SA, Length: 131, dtype: int64"
      ]
     },
     "execution_count": 95,
     "metadata": {},
     "output_type": "execute_result"
    }
   ],
   "source": [
    "data['OFFICEHOURS_SA'].value_counts()"
   ]
  },
  {
   "cell_type": "markdown",
   "metadata": {},
   "source": [
    "## Earn-Back 4: Output to a file\n",
    "\n",
    "Now, simply write a function named **to_csv(data, file)** that takes this summary view of information as a dictionary (the `data` parameter) and writes it out to a CSV file (the `file` parameter)."
   ]
  },
  {
   "cell_type": "code",
   "execution_count": 107,
   "metadata": {},
   "outputs": [],
   "source": [
    "def to_csv(data, file):\n",
    "    new_data = pd.DataFrame('OFFICEHOURS_SU' '19380',\n",
    "       'OFFICEHOURS_SA'  '18718')  \n",
    "\n",
    "    \n",
    "    "
   ]
  },
  {
   "cell_type": "code",
   "execution_count": null,
   "metadata": {},
   "outputs": [],
   "source": []
  },
  {
   "cell_type": "markdown",
   "metadata": {},
   "source": [
    "## Submit your work to github in your week 11 folder by 11/18 11:59 PM"
   ]
  },
  {
   "cell_type": "code",
   "execution_count": null,
   "metadata": {},
   "outputs": [],
   "source": []
  }
 ],
 "metadata": {
  "kernelspec": {
   "display_name": "Python 3",
   "language": "python",
   "name": "python3"
  },
  "language_info": {
   "codemirror_mode": {
    "name": "ipython",
    "version": 3
   },
   "file_extension": ".py",
   "mimetype": "text/x-python",
   "name": "python",
   "nbconvert_exporter": "python",
   "pygments_lexer": "ipython3",
   "version": "3.6.7"
  }
 },
 "nbformat": 4,
 "nbformat_minor": 4
}
